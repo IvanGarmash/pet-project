{
 "cells": [
  {
   "cell_type": "code",
   "execution_count": 2,
   "outputs": [],
   "source": [
    "from oauth2client.service_account import ServiceAccountCredentials\n",
    "from bs4 import BeautifulSoup\n",
    "import requests\n",
    "import pandas as pd\n",
    "import json as js\n",
    "import gspread\n",
    "from df2gspread import df2gspread as d2g\n",
    "from oauth2client.service_account import ServiceAccountCredentials\n",
    "from google.oauth2 import service_account\n",
    "import pygsheets\n",
    "import numpy as np\n",
    "import lxml.html\n",
    "import re\n",
    "\n",
    "\n",
    "dic = {}\n",
    "arr=[\"https://af.breezy.hr/\", \"https://gen-tech.breezy.hr/\",\n",
    "     \"https://socialtech.breezy.hr/\", \"https://obrio-76be502da02f.breezy.hr/\",\n",
    "     \"https://futurragroup.com/\"]\n",
    "arr_com = [\"AppFlame\", \"Genesis\", \"SocialTech\", \"Obrio\",  \"Futurra\"]\n",
    "href_com = [\"https://af.breezy.hr\", \"https://gen-tech.breezy.hr\", \"https://socialtech.breezy.hr\", \"https://obrio-76be502da02f.breezy.hr\", \"\"]\n",
    "pages = []\n",
    "delete = []\n",
    "new = []\n",
    "k = 1\n",
    "com = 0\n",
    "for links in arr:\n",
    "    url = links\n",
    "    data  = requests.get(url).text\n",
    "    soup = BeautifulSoup(data,\"html5lib\")\n",
    "    for link in soup.find_all('a'):\n",
    "        dic[k]=arr_com[com]+\" \"+str(link.get('href'))+\" \"+href_com[com]+str(link.get('href'))\n",
    "        pages.append(href_com[com]+str(link.get('href')))\n",
    "        k+=1\n",
    "    com+=1\n",
    "\n",
    "\n",
    "df=pd.DataFrame.from_dict(dic,orient='index')\n",
    "df = df[0].str.split(\" \", expand=True)\n",
    "df.rename(columns = {0:'Company', 1:\"Position\", 2:\"Link\", 3:\"Description\"}, inplace = True)\n",
    "\n",
    "for index, row in df.iterrows():\n",
    "    if \"analyst\" not in row[\"Position\"] :\n",
    "        df.drop(index, inplace=True)\n",
    "\n",
    "for str1 in pages:\n",
    "    if str1.find(\"analyst\") == -1:\n",
    "        delete.append(str1)\n",
    "\n",
    "for index, row in df.iterrows():\n",
    "    j=0\n",
    "    while row[\"Position\"][j] != \"-\":\n",
    "        j+=1\n",
    "    row[\"Position\"]=row[\"Position\"][j+1::]\n",
    "\n",
    "\n",
    "for i in pages:\n",
    "    if i not in delete:\n",
    "        new.append(i)\n",
    "\n",
    "k=1\n",
    "# descript = []\n",
    "# for desc_links in new:\n",
    "#     desc_url = desc_links\n",
    "#     desc_data  = requests.get(desc_url).text\n",
    "#     soup_desc = BeautifulSoup(desc_data,\"html.parser\")\n",
    "#     desc = soup_desc.find_all(\"div\", {\"class\": \"description\"})\n",
    "#     descript.append(str(desc))\n",
    "#     k+=1\n",
    "#\n",
    "#\n",
    "# for i in range(len(descript)):\n",
    "#     descript[i] = re.sub(r'<.*?>','',descript[i])\n",
    "#\n",
    "# df[\"Description\"] = descript\n",
    "\n",
    "\n",
    "gc = pygsheets.authorize(service_file=\"jsonFileFromGoogle.json\")\n",
    "sh = gc.open_by_key(\"1Fh4G25ZFa26cw_QfIV9x9IhjpW0FDMwj62cjMf_XTqA\")\n",
    "try:\n",
    "    sh.add_worksheet(\"Sheet1\")\n",
    "except:\n",
    "    pass\n",
    "wks_write = sh.worksheet_by_title(\"Sheet1\")\n",
    "wks_write.clear('A1',None,'*')\n",
    "wks_write.set_dataframe(df, (1,1), encoding='utf-8', fit=True)\n",
    "wks_write.frozen_rows = 1"
   ],
   "metadata": {
    "collapsed": false,
    "pycharm": {
     "name": "#%%\n"
    }
   }
  },
  {
   "cell_type": "code",
   "execution_count": 24,
   "outputs": [],
   "source": [
    "df.to_csv('data.csv', index = False)\n"
   ],
   "metadata": {
    "collapsed": false,
    "pycharm": {
     "name": "#%%\n"
    }
   }
  }
 ],
 "metadata": {
  "kernelspec": {
   "display_name": "Python 3",
   "language": "python",
   "name": "python3"
  },
  "language_info": {
   "codemirror_mode": {
    "name": "ipython",
    "version": 2
   },
   "file_extension": ".py",
   "mimetype": "text/x-python",
   "name": "python",
   "nbconvert_exporter": "python",
   "pygments_lexer": "ipython2",
   "version": "2.7.6"
  }
 },
 "nbformat": 4,
 "nbformat_minor": 0
}